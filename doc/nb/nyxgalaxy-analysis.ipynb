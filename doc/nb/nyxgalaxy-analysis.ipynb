{
 "cells": [
  {
   "cell_type": "code",
   "execution_count": 1,
   "metadata": {},
   "outputs": [],
   "source": [
    "import os\n",
    "import numpy as np\n",
    "from astropy.table import Table"
   ]
  },
  {
   "cell_type": "code",
   "execution_count": 18,
   "metadata": {},
   "outputs": [],
   "source": [
    "from desiutil.log import get_logger\n",
    "log = get_logger()"
   ]
  },
  {
   "cell_type": "code",
   "execution_count": 35,
   "metadata": {},
   "outputs": [],
   "source": [
    "import tempfile\n",
    "os.environ['MPLCONFIGDIR'] = tempfile.mkdtemp()\n",
    "\n",
    "import matplotlib.pyplot as plt\n",
    "import seaborn as sns\n",
    "sns.set(context='talk', style='ticks', font_scale=1.3)#, rc=rc)\n",
    "\n",
    "%matplotlib inline"
   ]
  },
  {
   "cell_type": "code",
   "execution_count": 12,
   "metadata": {},
   "outputs": [
    {
     "name": "stdout",
     "output_type": "stream",
     "text": [
      "env: DESI_ROOT=/global/cfs/cdirs/desi\n",
      "env: NYXGALAXY_DATA=/global/cfs/cdirs/desi/users/ioannis/nyxgalaxy\n"
     ]
    }
   ],
   "source": [
    "%env DESI_ROOT=/global/cfs/cdirs/desi\n",
    "%env NYXGALAXY_DATA=/global/cfs/cdirs/desi/users/ioannis/nyxgalaxy"
   ]
  },
  {
   "cell_type": "code",
   "execution_count": 21,
   "metadata": {},
   "outputs": [],
   "source": [
    "def read_results(tile, night):\n",
    "    nyxgalaxy_dir = os.getenv('NYXGALAXY_DATA')\n",
    "    qadir = os.path.join(nyxgalaxy_dir, 'qa')\n",
    "    if not os.path.isdir(qadir):\n",
    "        os.makedirs(qadir)\n",
    "\n",
    "    nyxgalaxyfile = os.path.join(nyxgalaxy_dir, 'nyxgalaxy-{}-{}.fits'.format(tile, night))\n",
    "    if not os.path.isfile(nyxgalaxyfile):\n",
    "        log.info('Output file {} not found!'.format(nyxgalaxyfile))\n",
    "        return\n",
    "    nyxgalaxy = Table.read(nyxgalaxyfile)\n",
    "    return nyxgalaxy"
   ]
  },
  {
   "cell_type": "code",
   "execution_count": 26,
   "metadata": {},
   "outputs": [],
   "source": [
    "res = read_results(tile='70502', night='20200225')\n",
    "res = res[res['CONTINUUM_CHI2'] > 0]"
   ]
  },
  {
   "cell_type": "code",
   "execution_count": 36,
   "metadata": {},
   "outputs": [
    {
     "data": {
      "text/plain": [
       "<matplotlib.collections.PathCollection at 0x2aaae7d7cf10>"
      ]
     },
     "execution_count": 36,
     "metadata": {},
     "output_type": "execute_result"
    },
    {
     "data": {
      "image/png": "[encoded data removed]",
      "text/plain": [
       "<Figure size 720x432 with 1 Axes>"
      ]
     },
     "metadata": {
      "needs_background": "light"
     },
     "output_type": "display_data"
    }
   ],
   "source": [
    "fig, ax = plt.subplots(figsize=(10, 6))\n",
    "ax.scatter(res['CONTINUUM_SNR'][:, 0], res['CONTINUUM_VDISP'])"
   ]
  },
  {
   "cell_type": "code",
   "execution_count": null,
   "metadata": {},
   "outputs": [],
   "source": []
  }
 ],
 "metadata": {
  "kernelspec": {
   "display_name": "docker: nyxgalaxy",
   "language": "python",
   "name": "nyxgalaxy"
  },
  "language_info": {
   "codemirror_mode": {
    "name": "ipython",
    "version": 3
   },
   "file_extension": ".py",
   "mimetype": "text/x-python",
   "name": "python",
   "nbconvert_exporter": "python",
   "pygments_lexer": "ipython3",
   "version": "3.8.5"
  }
 },
 "nbformat": 4,
 "nbformat_minor": 4
}

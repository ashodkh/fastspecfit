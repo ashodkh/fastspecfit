{
 "cells": [
  {
   "cell_type": "markdown",
   "id": "absent-norman",
   "metadata": {},
   "source": [
    "### FastSpecFit Nebular Lines\n",
    "\n",
    "Develop the set of nebular emission lines that *fastspecfit* should model."
   ]
  },
  {
   "cell_type": "code",
   "execution_count": 4,
   "id": "mathematical-christopher",
   "metadata": {},
   "outputs": [],
   "source": [
    "import numpy as np\n",
    "import pyneb as pn"
   ]
  },
  {
   "cell_type": "code",
   "execution_count": 5,
   "id": "outdoor-kenya",
   "metadata": {},
   "outputs": [],
   "source": [
    "def air2vac(airwave):\n",
    "    \"\"\"http://www.astro.uu.se/valdwiki/Air-to-vacuum%20conversion\"\"\"\n",
    "    if airwave <= 0:\n",
    "        raise ValueError('Input wavelength is not defined.')\n",
    "    ss = 1e4 / airwave\n",
    "    nn = 1 + 0.00008336624212083 + 0.02408926869968 / (130.1065924522 - ss**2) + 0.0001599740894897 / (38.92568793293 - ss**2)\n",
    "    return airwave * nn"
   ]
  },
  {
   "cell_type": "code",
   "execution_count": 6,
   "id": "utility-insight",
   "metadata": {},
   "outputs": [],
   "source": [
    "allatoms = ('O', 'O', 'Ne', 'Ne', 'Ar', 'S')\n",
    "allions = (2, 3, 3, 5, 3, 3)"
   ]
  },
  {
   "cell_type": "code",
   "execution_count": 7,
   "id": "universal-grounds",
   "metadata": {},
   "outputs": [],
   "source": [
    "def atominfo(atom='Ne', ion=3, temp=1e4, dens=1e2):\n",
    "    atm = pn.Atom(atom, ion)\n",
    "    nlevel = atm.NLevels\n",
    "    emis = atm.getEmissivity(temp, dens)\n",
    "    for i in range(1, nlevel):\n",
    "        for j in range(i):\n",
    "            airwave = atm.wave_Ang[i, j]\n",
    "            vacwave = air2vac(airwave)\n",
    "            if airwave < 1.5e4 and emis[i, j] > 1e-21:\n",
    "                print('[{}{}] ({}-->{}): airwave: {:.4f} vacwave: {:.4f} emissivity: {:.3e}'.format(\n",
    "                    atom, ion, i+1, j+1, airwave, vacwave, emis[i, j]))"
   ]
  },
  {
   "cell_type": "code",
   "execution_count": 8,
   "id": "radio-bristol",
   "metadata": {},
   "outputs": [
    {
     "name": "stdout",
     "output_type": "stream",
     "text": [
      "[O2] (2-->1): airwave: 3728.8145 vacwave: 3729.8750 emissivity: 1.948e-21\n",
      "[O2] (3-->1): airwave: 3726.0322 vacwave: 3727.0919 emissivity: 1.444e-21\n",
      "\n",
      "[O3] (4-->2): airwave: 4958.9097 vacwave: 4960.2937 emissivity: 1.172e-21\n",
      "[O3] (4-->3): airwave: 5006.8417 vacwave: 5008.2383 emissivity: 3.497e-21\n",
      "\n",
      "[Ne3] (4-->1): airwave: 3868.7643 vacwave: 3869.8611 emissivity: 1.135e-21\n",
      "\n",
      "\n",
      "[Ar3] (4-->1): airwave: 7135.7878 vacwave: 7137.7550 emissivity: 1.494e-20\n",
      "[Ar3] (4-->2): airwave: 7751.1046 vacwave: 7753.2378 emissivity: 3.606e-21\n",
      "\n",
      "[S3] (4-->2): airwave: 9068.6140 vacwave: 9071.1034 emissivity: 8.107e-21\n",
      "[S3] (4-->3): airwave: 9530.6129 vacwave: 9533.2274 emissivity: 2.001e-20\n",
      "\n"
     ]
    }
   ],
   "source": [
    "for atom, ion in zip(allatoms, allions):\n",
    "    atominfo(atom=atom, ion=ion)\n",
    "    print()"
   ]
  },
  {
   "cell_type": "code",
   "execution_count": 9,
   "id": "committed-sessions",
   "metadata": {},
   "outputs": [
    {
     "name": "stdout",
     "output_type": "stream",
     "text": [
      "elem = Ne\n",
      "spec = 3\n",
      "temperature = 10000.0 K\n",
      "density =  100.0 cm-3\n",
      "\n",
      "Level   Populations  Critical densities\n",
      "Level 1:  9.995E-01  0.000E+00\n",
      "Level 2:  2.531E-04  2.088E+05\n",
      "Level 3:  2.691E-04  3.019E+04\n",
      "Level 4:  1.278E-07  1.053E+07\n",
      "Level 5:  1.024E-11  1.145E+08\n",
      "\n",
      "5.974E-03   \n",
      "     15.55m \n",
      "    (2-->1) \n",
      "  1.931E-21 \n",
      "\n",
      "2.081E-08   1.159E-03   \n",
      "     10.86m      36.00m \n",
      "    (3-->1)     (3-->2) \n",
      "  1.024E-26   1.720E-22 \n",
      "\n",
      "1.730E-01   5.344E-02   8.269E-06   \n",
      "   3868.76A    3967.47A    4011.68A \n",
      "    (4-->1)     (4-->2)     (4-->3) \n",
      "  1.135E-21   3.419E-22   5.233E-26 \n",
      "\n",
      "3.985E-03   2.028E+00   0.000E+00   2.563E+00   \n",
      "   1793.64A    1814.56A    1823.75A    3342.18A \n",
      "    (5-->1)     (5-->2)     (5-->3)     (5-->4) \n",
      "  4.517E-27   2.272E-24   0.000E+00   1.559E-24 \n",
      "\n",
      "ERROR Atom H1: /Users/ioannis/anaconda3/envs/py37/lib/python3.7/site-packages/pyneb/atomic_data_fits//h_i_rec_SH95.hdf5 recombination file not read\n"
     ]
    }
   ],
   "source": [
    "atm = pn.Atom('Ne', 3)\n",
    "atm.printIonic(tem=1e4, den=1e2, printA=True)"
   ]
  },
  {
   "cell_type": "code",
   "execution_count": null,
   "id": "through-ancient",
   "metadata": {},
   "outputs": [],
   "source": []
  },
  {
   "cell_type": "code",
   "execution_count": null,
   "id": "rubber-option",
   "metadata": {},
   "outputs": [],
   "source": []
  }
 ],
 "metadata": {
  "kernelspec": {
   "display_name": "Python 3",
   "language": "python",
   "name": "python3"
  },
  "language_info": {
   "codemirror_mode": {
    "name": "ipython",
    "version": 3
   },
   "file_extension": ".py",
   "mimetype": "text/x-python",
   "name": "python",
   "nbconvert_exporter": "python",
   "pygments_lexer": "ipython3",
   "version": "3.7.9"
  }
 },
 "nbformat": 4,
 "nbformat_minor": 5
}
